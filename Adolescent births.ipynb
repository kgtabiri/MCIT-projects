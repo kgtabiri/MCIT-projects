{
 "cells": [
  {
   "cell_type": "markdown",
   "metadata": {},
   "source": [
    "# <font color='#DB9E1E'>**Predicting Adolescent Births in Ghana**</font> "
   ]
  },
  {
   "cell_type": "markdown",
   "metadata": {},
   "source": [
    "<div style='text-align: center'>\n",
    "    <img src='https://www.unicef.org/ghana/sites/unicef.org.ghana/files/styles/media_large_image/public/DSC06206.jpg.webp?itok=08zzv-BF' alt='teengirls' title='loss' width='900' height='600'/>\n",
    "</div>"
   ]
  },
  {
   "cell_type": "markdown",
   "metadata": {},
   "source": [
    "## Background\n",
    "This goal of this notebook is to use machine learning methods (specifically Classification), to predict adolescent birth in Ghana. Between 2016 and 2020, Ghana recorded 542,131 pregnancies amongst adolescent girls aged 15-19 years and 13,444 pregnancies amongst young teenagers aged 10-14 years according to the Ghana Health Service District Health Information Management Health System (DHIMS). \n",
    "\n",
    "Giving birth as an adolescent can have life-time consequences on the adolescents as well as their children. It can lead to psychological and emotional troubles, disruption in educational aspirations, drift into livelihood challenges aggravating generational poverty, discrimination and stigmatization as well as loss of family and social ties in some cases. \n",
    "\n",
    "This analysis will allow us to predict women who are likely to give birth in their teens. This can help to focus both government and private efforts to reduce adolescent pregnancy and births, and improve health, educational, and social outcomes for girls. \n",
    "\n",
    "I use the 2022 wave of the Demographic and Health Surveys (DHS) data for Ghana. The DHS collects nationally representative demographic and health data on women between the ages of 15-49. Specifically, we use the *births* dataset, which contains information on all the children ever born to a women. The data extracted and used for this analysis focuses on the *first birth* of the woman.\n"
   ]
  },
  {
   "cell_type": "markdown",
   "metadata": {},
   "source": [
    "## Data Preprocessing"
   ]
  },
  {
   "cell_type": "code",
   "execution_count": 1,
   "metadata": {},
   "outputs": [],
   "source": [
    "# import relevant libraries\n",
    "import pandas as pd\n",
    "import numpy as np\n",
    "import matplotlib.pyplot as plt \n",
    "import seaborn as sns"
   ]
  },
  {
   "cell_type": "code",
   "execution_count": 2,
   "metadata": {},
   "outputs": [
    {
     "data": {
      "text/html": [
       "<div>\n",
       "<style scoped>\n",
       "    .dataframe tbody tr th:only-of-type {\n",
       "        vertical-align: middle;\n",
       "    }\n",
       "\n",
       "    .dataframe tbody tr th {\n",
       "        vertical-align: top;\n",
       "    }\n",
       "\n",
       "    .dataframe thead th {\n",
       "        text-align: right;\n",
       "    }\n",
       "</style>\n",
       "<table border=\"1\" class=\"dataframe\">\n",
       "  <thead>\n",
       "    <tr style=\"text-align: right;\">\n",
       "      <th></th>\n",
       "      <th>caseid</th>\n",
       "      <th>v012</th>\n",
       "      <th>v013</th>\n",
       "      <th>v023</th>\n",
       "      <th>v024</th>\n",
       "      <th>v025</th>\n",
       "      <th>v044</th>\n",
       "      <th>v106</th>\n",
       "      <th>v130</th>\n",
       "      <th>v131</th>\n",
       "      <th>...</th>\n",
       "      <th>v463c</th>\n",
       "      <th>v481</th>\n",
       "      <th>v501</th>\n",
       "      <th>v502</th>\n",
       "      <th>v503</th>\n",
       "      <th>v504</th>\n",
       "      <th>v505</th>\n",
       "      <th>v506</th>\n",
       "      <th>v531</th>\n",
       "      <th>v731</th>\n",
       "    </tr>\n",
       "  </thead>\n",
       "  <tbody>\n",
       "    <tr>\n",
       "      <th>0</th>\n",
       "      <td>1   6  2</td>\n",
       "      <td>20</td>\n",
       "      <td>20-24</td>\n",
       "      <td>western, rural</td>\n",
       "      <td>western</td>\n",
       "      <td>rural</td>\n",
       "      <td>woman selected and interviewed</td>\n",
       "      <td>secondary</td>\n",
       "      <td>pentecostal/charismatic</td>\n",
       "      <td>akan</td>\n",
       "      <td>...</td>\n",
       "      <td>no</td>\n",
       "      <td>yes</td>\n",
       "      <td>never in union</td>\n",
       "      <td>never in union</td>\n",
       "      <td>NaN</td>\n",
       "      <td>NaN</td>\n",
       "      <td>NaN</td>\n",
       "      <td>NaN</td>\n",
       "      <td>10</td>\n",
       "      <td>in the past year</td>\n",
       "    </tr>\n",
       "    <tr>\n",
       "      <th>1</th>\n",
       "      <td>1   9  2</td>\n",
       "      <td>31</td>\n",
       "      <td>30-34</td>\n",
       "      <td>western, rural</td>\n",
       "      <td>western</td>\n",
       "      <td>rural</td>\n",
       "      <td>woman not selected</td>\n",
       "      <td>secondary</td>\n",
       "      <td>pentecostal/charismatic</td>\n",
       "      <td>akan</td>\n",
       "      <td>...</td>\n",
       "      <td>no</td>\n",
       "      <td>yes</td>\n",
       "      <td>living with partner</td>\n",
       "      <td>currently in union/living with a man</td>\n",
       "      <td>more than once</td>\n",
       "      <td>living with her</td>\n",
       "      <td>no other wives</td>\n",
       "      <td>NaN</td>\n",
       "      <td>18</td>\n",
       "      <td>in the past year</td>\n",
       "    </tr>\n",
       "    <tr>\n",
       "      <th>2</th>\n",
       "      <td>1  13  2</td>\n",
       "      <td>33</td>\n",
       "      <td>30-34</td>\n",
       "      <td>western, rural</td>\n",
       "      <td>western</td>\n",
       "      <td>rural</td>\n",
       "      <td>woman not selected</td>\n",
       "      <td>secondary</td>\n",
       "      <td>catholic</td>\n",
       "      <td>akan</td>\n",
       "      <td>...</td>\n",
       "      <td>no</td>\n",
       "      <td>yes</td>\n",
       "      <td>living with partner</td>\n",
       "      <td>currently in union/living with a man</td>\n",
       "      <td>once</td>\n",
       "      <td>living with her</td>\n",
       "      <td>no other wives</td>\n",
       "      <td>NaN</td>\n",
       "      <td>22</td>\n",
       "      <td>currently working</td>\n",
       "    </tr>\n",
       "    <tr>\n",
       "      <th>3</th>\n",
       "      <td>1  32  1</td>\n",
       "      <td>45</td>\n",
       "      <td>45-49</td>\n",
       "      <td>western, rural</td>\n",
       "      <td>western</td>\n",
       "      <td>rural</td>\n",
       "      <td>woman not selected</td>\n",
       "      <td>secondary</td>\n",
       "      <td>pentecostal/charismatic</td>\n",
       "      <td>akan</td>\n",
       "      <td>...</td>\n",
       "      <td>no</td>\n",
       "      <td>yes</td>\n",
       "      <td>no longer living together/separated</td>\n",
       "      <td>formerly in union/living with a man</td>\n",
       "      <td>once</td>\n",
       "      <td>NaN</td>\n",
       "      <td>NaN</td>\n",
       "      <td>NaN</td>\n",
       "      <td>17</td>\n",
       "      <td>no</td>\n",
       "    </tr>\n",
       "    <tr>\n",
       "      <th>4</th>\n",
       "      <td>1  35  1</td>\n",
       "      <td>43</td>\n",
       "      <td>40-44</td>\n",
       "      <td>western, rural</td>\n",
       "      <td>western</td>\n",
       "      <td>rural</td>\n",
       "      <td>woman selected and interviewed</td>\n",
       "      <td>secondary</td>\n",
       "      <td>pentecostal/charismatic</td>\n",
       "      <td>akan</td>\n",
       "      <td>...</td>\n",
       "      <td>no</td>\n",
       "      <td>yes</td>\n",
       "      <td>divorced</td>\n",
       "      <td>formerly in union/living with a man</td>\n",
       "      <td>once</td>\n",
       "      <td>NaN</td>\n",
       "      <td>NaN</td>\n",
       "      <td>NaN</td>\n",
       "      <td>18</td>\n",
       "      <td>currently working</td>\n",
       "    </tr>\n",
       "  </tbody>\n",
       "</table>\n",
       "<p>5 rows × 32 columns</p>\n",
       "</div>"
      ],
      "text/plain": [
       "            caseid  v012   v013            v023     v024   v025  \\\n",
       "0         1   6  2    20  20-24  western, rural  western  rural   \n",
       "1         1   9  2    31  30-34  western, rural  western  rural   \n",
       "2         1  13  2    33  30-34  western, rural  western  rural   \n",
       "3         1  32  1    45  45-49  western, rural  western  rural   \n",
       "4         1  35  1    43  40-44  western, rural  western  rural   \n",
       "\n",
       "                             v044       v106                     v130  v131  \\\n",
       "0  woman selected and interviewed  secondary  pentecostal/charismatic  akan   \n",
       "1              woman not selected  secondary  pentecostal/charismatic  akan   \n",
       "2              woman not selected  secondary                 catholic  akan   \n",
       "3              woman not selected  secondary  pentecostal/charismatic  akan   \n",
       "4  woman selected and interviewed  secondary  pentecostal/charismatic  akan   \n",
       "\n",
       "   ...  v463c  v481                                 v501  \\\n",
       "0  ...     no   yes                       never in union   \n",
       "1  ...     no   yes                  living with partner   \n",
       "2  ...     no   yes                  living with partner   \n",
       "3  ...     no   yes  no longer living together/separated   \n",
       "4  ...     no   yes                             divorced   \n",
       "\n",
       "                                   v502            v503             v504  \\\n",
       "0                        never in union             NaN              NaN   \n",
       "1  currently in union/living with a man  more than once  living with her   \n",
       "2  currently in union/living with a man            once  living with her   \n",
       "3   formerly in union/living with a man            once              NaN   \n",
       "4   formerly in union/living with a man            once              NaN   \n",
       "\n",
       "             v505  v506 v531               v731  \n",
       "0             NaN   NaN   10   in the past year  \n",
       "1  no other wives   NaN   18   in the past year  \n",
       "2  no other wives   NaN   22  currently working  \n",
       "3             NaN   NaN   17                 no  \n",
       "4             NaN   NaN   18  currently working  \n",
       "\n",
       "[5 rows x 32 columns]"
      ]
     },
     "execution_count": 2,
     "metadata": {},
     "output_type": "execute_result"
    }
   ],
   "source": [
    "# import and view dataset\n",
    "df = pd.read_csv('Teenbirth.csv')\n",
    "df.head()"
   ]
  },
  {
   "cell_type": "code",
   "execution_count": 3,
   "metadata": {},
   "outputs": [
    {
     "data": {
      "text/plain": [
       "(10356, 32)"
      ]
     },
     "execution_count": 3,
     "metadata": {},
     "output_type": "execute_result"
    }
   ],
   "source": [
    "# Check shape of the dataframe\n",
    "df.shape"
   ]
  },
  {
   "cell_type": "code",
   "execution_count": 4,
   "metadata": {},
   "outputs": [
    {
     "data": {
      "text/plain": [
       "(10356, 12)"
      ]
     },
     "execution_count": 4,
     "metadata": {},
     "output_type": "execute_result"
    }
   ],
   "source": [
    "# Drop variables that are not relevant to our analysis\n",
    "drop_columns = ['caseid', 'v023', 'v044', 'v133', 'v136', 'v149', 'v151', 'v152', 'v191', 'v201', \n",
    "                'v208', 'v463a', 'v463c', 'v481', 'v503', 'v504', 'v502', 'v505', 'v506', 'v731']\n",
    "df.drop(columns=drop_columns, inplace=True)\n",
    "\n",
    "# Check shape of dataframe again\n",
    "df.shape"
   ]
  },
  {
   "cell_type": "code",
   "execution_count": 5,
   "metadata": {},
   "outputs": [
    {
     "data": {
      "text/html": [
       "<div>\n",
       "<style scoped>\n",
       "    .dataframe tbody tr th:only-of-type {\n",
       "        vertical-align: middle;\n",
       "    }\n",
       "\n",
       "    .dataframe tbody tr th {\n",
       "        vertical-align: top;\n",
       "    }\n",
       "\n",
       "    .dataframe thead th {\n",
       "        text-align: right;\n",
       "    }\n",
       "</style>\n",
       "<table border=\"1\" class=\"dataframe\">\n",
       "  <thead>\n",
       "    <tr style=\"text-align: right;\">\n",
       "      <th></th>\n",
       "      <th>v012</th>\n",
       "      <th>v013</th>\n",
       "      <th>v024</th>\n",
       "      <th>v025</th>\n",
       "      <th>v106</th>\n",
       "      <th>v130</th>\n",
       "      <th>v131</th>\n",
       "      <th>v190</th>\n",
       "      <th>v212</th>\n",
       "      <th>v249</th>\n",
       "      <th>v501</th>\n",
       "      <th>v531</th>\n",
       "    </tr>\n",
       "  </thead>\n",
       "  <tbody>\n",
       "    <tr>\n",
       "      <th>0</th>\n",
       "      <td>20</td>\n",
       "      <td>20-24</td>\n",
       "      <td>western</td>\n",
       "      <td>rural</td>\n",
       "      <td>secondary</td>\n",
       "      <td>pentecostal/charismatic</td>\n",
       "      <td>akan</td>\n",
       "      <td>middle</td>\n",
       "      <td>13</td>\n",
       "      <td>11</td>\n",
       "      <td>never in union</td>\n",
       "      <td>10</td>\n",
       "    </tr>\n",
       "    <tr>\n",
       "      <th>1</th>\n",
       "      <td>31</td>\n",
       "      <td>30-34</td>\n",
       "      <td>western</td>\n",
       "      <td>rural</td>\n",
       "      <td>secondary</td>\n",
       "      <td>pentecostal/charismatic</td>\n",
       "      <td>akan</td>\n",
       "      <td>poorer</td>\n",
       "      <td>20</td>\n",
       "      <td>16</td>\n",
       "      <td>living with partner</td>\n",
       "      <td>18</td>\n",
       "    </tr>\n",
       "    <tr>\n",
       "      <th>2</th>\n",
       "      <td>33</td>\n",
       "      <td>30-34</td>\n",
       "      <td>western</td>\n",
       "      <td>rural</td>\n",
       "      <td>secondary</td>\n",
       "      <td>catholic</td>\n",
       "      <td>akan</td>\n",
       "      <td>richer</td>\n",
       "      <td>27</td>\n",
       "      <td>17</td>\n",
       "      <td>living with partner</td>\n",
       "      <td>22</td>\n",
       "    </tr>\n",
       "    <tr>\n",
       "      <th>3</th>\n",
       "      <td>45</td>\n",
       "      <td>45-49</td>\n",
       "      <td>western</td>\n",
       "      <td>rural</td>\n",
       "      <td>secondary</td>\n",
       "      <td>pentecostal/charismatic</td>\n",
       "      <td>akan</td>\n",
       "      <td>poorer</td>\n",
       "      <td>24</td>\n",
       "      <td>15</td>\n",
       "      <td>no longer living together/separated</td>\n",
       "      <td>17</td>\n",
       "    </tr>\n",
       "    <tr>\n",
       "      <th>4</th>\n",
       "      <td>43</td>\n",
       "      <td>40-44</td>\n",
       "      <td>western</td>\n",
       "      <td>rural</td>\n",
       "      <td>secondary</td>\n",
       "      <td>pentecostal/charismatic</td>\n",
       "      <td>akan</td>\n",
       "      <td>richest</td>\n",
       "      <td>23</td>\n",
       "      <td>16</td>\n",
       "      <td>divorced</td>\n",
       "      <td>18</td>\n",
       "    </tr>\n",
       "  </tbody>\n",
       "</table>\n",
       "</div>"
      ],
      "text/plain": [
       "   v012   v013     v024   v025       v106                     v130  v131  \\\n",
       "0    20  20-24  western  rural  secondary  pentecostal/charismatic  akan   \n",
       "1    31  30-34  western  rural  secondary  pentecostal/charismatic  akan   \n",
       "2    33  30-34  western  rural  secondary                 catholic  akan   \n",
       "3    45  45-49  western  rural  secondary  pentecostal/charismatic  akan   \n",
       "4    43  40-44  western  rural  secondary  pentecostal/charismatic  akan   \n",
       "\n",
       "      v190  v212 v249                                 v501 v531  \n",
       "0   middle    13   11                       never in union   10  \n",
       "1   poorer    20   16                  living with partner   18  \n",
       "2   richer    27   17                  living with partner   22  \n",
       "3   poorer    24   15  no longer living together/separated   17  \n",
       "4  richest    23   16                             divorced   18  "
      ]
     },
     "execution_count": 5,
     "metadata": {},
     "output_type": "execute_result"
    }
   ],
   "source": [
    "df.head()"
   ]
  },
  {
   "cell_type": "code",
   "execution_count": 6,
   "metadata": {},
   "outputs": [
    {
     "name": "stdout",
     "output_type": "stream",
     "text": [
      "<class 'pandas.core.frame.DataFrame'>\n",
      "RangeIndex: 10356 entries, 0 to 10355\n",
      "Data columns (total 12 columns):\n",
      " #   Column  Non-Null Count  Dtype \n",
      "---  ------  --------------  ----- \n",
      " 0   v012    10356 non-null  int64 \n",
      " 1   v013    10356 non-null  object\n",
      " 2   v024    10356 non-null  object\n",
      " 3   v025    10356 non-null  object\n",
      " 4   v106    10356 non-null  object\n",
      " 5   v130    10356 non-null  object\n",
      " 6   v131    10356 non-null  object\n",
      " 7   v190    10356 non-null  object\n",
      " 8   v212    10356 non-null  int64 \n",
      " 9   v249    10356 non-null  object\n",
      " 10  v501    10356 non-null  object\n",
      " 11  v531    10356 non-null  object\n",
      "dtypes: int64(2), object(10)\n",
      "memory usage: 971.0+ KB\n"
     ]
    }
   ],
   "source": [
    "df.info()"
   ]
  },
  {
   "cell_type": "markdown",
   "metadata": {},
   "source": [
    "We see from the result of `df.info()` that there are no missing values for any of our variables, and that most of them are non-numeric. We will now rename the columns to allow for easier identification."
   ]
  },
  {
   "cell_type": "code",
   "execution_count": 7,
   "metadata": {},
   "outputs": [
    {
     "data": {
      "text/html": [
       "<div>\n",
       "<style scoped>\n",
       "    .dataframe tbody tr th:only-of-type {\n",
       "        vertical-align: middle;\n",
       "    }\n",
       "\n",
       "    .dataframe tbody tr th {\n",
       "        vertical-align: top;\n",
       "    }\n",
       "\n",
       "    .dataframe thead th {\n",
       "        text-align: right;\n",
       "    }\n",
       "</style>\n",
       "<table border=\"1\" class=\"dataframe\">\n",
       "  <thead>\n",
       "    <tr style=\"text-align: right;\">\n",
       "      <th></th>\n",
       "      <th>current age</th>\n",
       "      <th>age group</th>\n",
       "      <th>region</th>\n",
       "      <th>rural/urban</th>\n",
       "      <th>highest education</th>\n",
       "      <th>religion</th>\n",
       "      <th>ethnic group</th>\n",
       "      <th>wealth category</th>\n",
       "      <th>age at 1st birth</th>\n",
       "      <th>age at 1st menses</th>\n",
       "      <th>marital status</th>\n",
       "      <th>age at 1st sex</th>\n",
       "    </tr>\n",
       "  </thead>\n",
       "  <tbody>\n",
       "    <tr>\n",
       "      <th>0</th>\n",
       "      <td>20</td>\n",
       "      <td>20-24</td>\n",
       "      <td>western</td>\n",
       "      <td>rural</td>\n",
       "      <td>secondary</td>\n",
       "      <td>pentecostal/charismatic</td>\n",
       "      <td>akan</td>\n",
       "      <td>middle</td>\n",
       "      <td>13</td>\n",
       "      <td>11</td>\n",
       "      <td>never in union</td>\n",
       "      <td>10</td>\n",
       "    </tr>\n",
       "    <tr>\n",
       "      <th>1</th>\n",
       "      <td>31</td>\n",
       "      <td>30-34</td>\n",
       "      <td>western</td>\n",
       "      <td>rural</td>\n",
       "      <td>secondary</td>\n",
       "      <td>pentecostal/charismatic</td>\n",
       "      <td>akan</td>\n",
       "      <td>poorer</td>\n",
       "      <td>20</td>\n",
       "      <td>16</td>\n",
       "      <td>living with partner</td>\n",
       "      <td>18</td>\n",
       "    </tr>\n",
       "    <tr>\n",
       "      <th>2</th>\n",
       "      <td>33</td>\n",
       "      <td>30-34</td>\n",
       "      <td>western</td>\n",
       "      <td>rural</td>\n",
       "      <td>secondary</td>\n",
       "      <td>catholic</td>\n",
       "      <td>akan</td>\n",
       "      <td>richer</td>\n",
       "      <td>27</td>\n",
       "      <td>17</td>\n",
       "      <td>living with partner</td>\n",
       "      <td>22</td>\n",
       "    </tr>\n",
       "    <tr>\n",
       "      <th>3</th>\n",
       "      <td>45</td>\n",
       "      <td>45-49</td>\n",
       "      <td>western</td>\n",
       "      <td>rural</td>\n",
       "      <td>secondary</td>\n",
       "      <td>pentecostal/charismatic</td>\n",
       "      <td>akan</td>\n",
       "      <td>poorer</td>\n",
       "      <td>24</td>\n",
       "      <td>15</td>\n",
       "      <td>no longer living together/separated</td>\n",
       "      <td>17</td>\n",
       "    </tr>\n",
       "    <tr>\n",
       "      <th>4</th>\n",
       "      <td>43</td>\n",
       "      <td>40-44</td>\n",
       "      <td>western</td>\n",
       "      <td>rural</td>\n",
       "      <td>secondary</td>\n",
       "      <td>pentecostal/charismatic</td>\n",
       "      <td>akan</td>\n",
       "      <td>richest</td>\n",
       "      <td>23</td>\n",
       "      <td>16</td>\n",
       "      <td>divorced</td>\n",
       "      <td>18</td>\n",
       "    </tr>\n",
       "  </tbody>\n",
       "</table>\n",
       "</div>"
      ],
      "text/plain": [
       "   current age age group   region rural/urban highest education  \\\n",
       "0           20     20-24  western       rural         secondary   \n",
       "1           31     30-34  western       rural         secondary   \n",
       "2           33     30-34  western       rural         secondary   \n",
       "3           45     45-49  western       rural         secondary   \n",
       "4           43     40-44  western       rural         secondary   \n",
       "\n",
       "                  religion ethnic group wealth category  age at 1st birth  \\\n",
       "0  pentecostal/charismatic         akan          middle                13   \n",
       "1  pentecostal/charismatic         akan          poorer                20   \n",
       "2                 catholic         akan          richer                27   \n",
       "3  pentecostal/charismatic         akan          poorer                24   \n",
       "4  pentecostal/charismatic         akan         richest                23   \n",
       "\n",
       "  age at 1st menses                       marital status age at 1st sex  \n",
       "0                11                       never in union             10  \n",
       "1                16                  living with partner             18  \n",
       "2                17                  living with partner             22  \n",
       "3                15  no longer living together/separated             17  \n",
       "4                16                             divorced             18  "
      ]
     },
     "execution_count": 7,
     "metadata": {},
     "output_type": "execute_result"
    }
   ],
   "source": [
    "# Renaming columns for easier identification\n",
    "column_names = {\n",
    "    'v012': 'current age',\n",
    "    'v013': 'age group',\n",
    "    'v024': 'region',\n",
    "    'v025': 'rural/urban',\n",
    "    'v106': 'highest education',\n",
    "    'v130': 'religion',\n",
    "    'v131': 'ethnic group',\n",
    "    'v190': 'wealth category',\n",
    "    'v212': 'age at 1st birth',\n",
    "    'v249': 'age at 1st menses',\n",
    "    'v501': 'marital status',\n",
    "    'v531': 'age at 1st sex'\n",
    "}\n",
    "\n",
    "df.rename(columns=column_names, inplace=True)\n",
    "\n",
    "# View dataframe\n",
    "df.head()"
   ]
  },
  {
   "cell_type": "markdown",
   "metadata": {},
   "source": [
    "### Metadata information on columns\n",
    "- `current age`: current age of the woman\n",
    "- `age group`: current age in 5-year groups\n",
    "- `region`: current region of residence\n",
    "- `rural/urban`: the type of residece (whether rural or urban)\n",
    "- `highest education`: the highest educational level attended\n",
    "- `religion`: woman's religion\n",
    "- `ethnic group`: woman's ethnic group\n",
    "- `wealth category`: wealth category of woman's household\n",
    "- `age at 1st birth`: woman's age when she gave birth to first child\n",
    "- `age at 1st menses`: woman's age at first menstrual period\n",
    "- `marital status`: whether woman is currently or was formerly in a union, or has never been in a union\n",
    "- `age at 1st sex`: woman's age at first sexual intercourse"
   ]
  },
  {
   "cell_type": "markdown",
   "metadata": {},
   "source": [
    "We examine the unique values of the variables to ensure that we have the appropriate categories for categorical variables, and also to confirm that there are no numeric variables that may have mistakenly designated as non-numeric."
   ]
  },
  {
   "cell_type": "code",
   "execution_count": 8,
   "metadata": {},
   "outputs": [
    {
     "data": {
      "text/plain": [
       "array(['pentecostal/charismatic', 'catholic', 'methodist', 'islam',\n",
       "       'no religion', 'other christian', 'anglican', 'presbyterian',\n",
       "       'other', 'traditional/spiritualist'], dtype=object)"
      ]
     },
     "execution_count": 8,
     "metadata": {},
     "output_type": "execute_result"
    }
   ],
   "source": [
    "# Check unique values of religion\n",
    "df['religion'].unique()"
   ]
  },
  {
   "cell_type": "code",
   "execution_count": 9,
   "metadata": {},
   "outputs": [
    {
     "data": {
      "text/plain": [
       "array(['never in union', 'living with partner',\n",
       "       'no longer living together/separated', 'divorced', 'married',\n",
       "       'widowed'], dtype=object)"
      ]
     },
     "execution_count": 9,
     "metadata": {},
     "output_type": "execute_result"
    }
   ],
   "source": [
    "# Check unique values of martial status\n",
    "df['marital status'].unique()"
   ]
  },
  {
   "cell_type": "markdown",
   "metadata": {},
   "source": [
    "Before going further, we see that there are many categories in `religion` and `marital status` that can be grouped under a single category. We therefore group all the different christian denominations into a single `christian` category. We also re-group the `marital status` column to consist of `married/in union`, `never in union`, and `not currently in union`."
   ]
  },
  {
   "cell_type": "code",
   "execution_count": 10,
   "metadata": {},
   "outputs": [
    {
     "data": {
      "text/plain": [
       "array(['christian', 'islam', 'no religion', 'other',\n",
       "       'traditional/spiritualist'], dtype=object)"
      ]
     },
     "execution_count": 10,
     "metadata": {},
     "output_type": "execute_result"
    }
   ],
   "source": [
    "import warnings\n",
    "warnings.simplefilter('ignore')\n",
    "\n",
    "christian = ['pentecostal/charismatic', 'catholic', 'methodist', 'other christian', 'anglican', 'presbyterian']\n",
    "\n",
    "# Replace all Christian denominations with `christian`\n",
    "for n in christian:\n",
    "    df['religion'][df['religion']==n] = 'christian'\n",
    "\n",
    "# Check unique values of religion again\n",
    "df['religion'].unique()"
   ]
  },
  {
   "cell_type": "code",
   "execution_count": 11,
   "metadata": {},
   "outputs": [
    {
     "data": {
      "text/plain": [
       "array(['never in union', 'married/in union', 'not currently in union'],\n",
       "      dtype=object)"
      ]
     },
     "execution_count": 11,
     "metadata": {},
     "output_type": "execute_result"
    }
   ],
   "source": [
    "import warnings\n",
    "warnings.simplefilter('ignore')\n",
    "\n",
    "in_union_yes = ['married', 'living with partner']\n",
    "in_union_no = ['no longer living together/separated', 'divorced', 'widowed']\n",
    "\n",
    "# Reduce the number of categories for marital status variable\n",
    "for y in in_union_yes:\n",
    "    df['marital status'][df['marital status']==y] = 'married/in union'\n",
    "                         \n",
    "for n in in_union_no:\n",
    "    df['marital status'][df['marital status']==n] = 'not currently in union'\n",
    "\n",
    "# Check unique values of marital status again\n",
    "df['marital status'].unique()"
   ]
  },
  {
   "cell_type": "code",
   "execution_count": 12,
   "metadata": {},
   "outputs": [
    {
     "data": {
      "text/plain": [
       "array(['20-24', '30-34', '45-49', '40-44', '25-29', '35-39', '15-19'],\n",
       "      dtype=object)"
      ]
     },
     "execution_count": 12,
     "metadata": {},
     "output_type": "execute_result"
    }
   ],
   "source": [
    "# Check unique values of age group\n",
    "df['age group'].unique()"
   ]
  },
  {
   "cell_type": "code",
   "execution_count": 13,
   "metadata": {},
   "outputs": [
    {
     "data": {
      "text/plain": [
       "array(['akan', 'grusi', 'other', 'ewe', 'mole-dagbani', 'ga/dangme',\n",
       "       'mande', 'gurma', 'guan'], dtype=object)"
      ]
     },
     "execution_count": 13,
     "metadata": {},
     "output_type": "execute_result"
    }
   ],
   "source": [
    "# Check unique values of ethnic group\n",
    "df['ethnic group'].unique()"
   ]
  },
  {
   "cell_type": "code",
   "execution_count": 14,
   "metadata": {},
   "outputs": [
    {
     "data": {
      "text/plain": [
       "array(['secondary', 'no education', 'primary', 'higher'], dtype=object)"
      ]
     },
     "execution_count": 14,
     "metadata": {},
     "output_type": "execute_result"
    }
   ],
   "source": [
    "# Check unique values of education\n",
    "df['highest education'].unique()"
   ]
  },
  {
   "cell_type": "code",
   "execution_count": 15,
   "metadata": {},
   "outputs": [
    {
     "data": {
      "text/plain": [
       "array(['western', 'central', 'greater accra', 'volta', 'eastern',\n",
       "       'ashanti', 'western north', 'ahafo', 'bono', 'bono east', 'oti',\n",
       "       'northern', 'savannah', 'north east', 'upper east', 'upper west'],\n",
       "      dtype=object)"
      ]
     },
     "execution_count": 15,
     "metadata": {},
     "output_type": "execute_result"
    }
   ],
   "source": [
    "# Check unique values of region\n",
    "df['region'].unique()"
   ]
  },
  {
   "cell_type": "code",
   "execution_count": 16,
   "metadata": {},
   "outputs": [
    {
     "data": {
      "text/plain": [
       "array(['rural', 'urban'], dtype=object)"
      ]
     },
     "execution_count": 16,
     "metadata": {},
     "output_type": "execute_result"
    }
   ],
   "source": [
    "# Check unique values of rural-urban\n",
    "df['rural/urban'].unique()"
   ]
  },
  {
   "cell_type": "code",
   "execution_count": 17,
   "metadata": {},
   "outputs": [
    {
     "data": {
      "text/plain": [
       "array(['middle', 'poorer', 'richer', 'richest', 'poorest'], dtype=object)"
      ]
     },
     "execution_count": 17,
     "metadata": {},
     "output_type": "execute_result"
    }
   ],
   "source": [
    "# Check unique values of wealth category\n",
    "df['wealth category'].unique()"
   ]
  },
  {
   "cell_type": "code",
   "execution_count": 18,
   "metadata": {},
   "outputs": [
    {
     "data": {
      "text/plain": [
       "array(['10', '18', '22', '17', '13', '19', '11', '15', '14', '21', '25',\n",
       "       '20', '12', '16', '23', '24', '26', 'inconsistent', '28', '30',\n",
       "       '27', '33', '32', '8', '31', '29', '9', '38'], dtype=object)"
      ]
     },
     "execution_count": 18,
     "metadata": {},
     "output_type": "execute_result"
    }
   ],
   "source": [
    "# Check unique values of age at 1st sex\n",
    "df['age at 1st sex'].unique()"
   ]
  },
  {
   "cell_type": "code",
   "execution_count": 19,
   "metadata": {},
   "outputs": [
    {
     "data": {
      "text/plain": [
       "array(['11', '16', '17', '15', '14', '12', '13', '19', '10', '20', '9',\n",
       "       '18', \"don't know\", '39', '21', '25', '23', '45', '31', '22',\n",
       "       'never menstruated', '8', '49', '37', '24', '40', '7', '27', '30',\n",
       "       '26'], dtype=object)"
      ]
     },
     "execution_count": 19,
     "metadata": {},
     "output_type": "execute_result"
    }
   ],
   "source": [
    "# Check unique values of age at 1st menses\n",
    "df['age at 1st menses'].unique()"
   ]
  },
  {
   "cell_type": "code",
   "execution_count": 20,
   "metadata": {},
   "outputs": [
    {
     "data": {
      "text/plain": [
       "array([13, 20, 27, 24, 23, 22, 21, 16, 17, 15, 18, 19, 14, 33, 28, 30, 12,\n",
       "       26, 25, 31, 29, 35, 36, 32, 37, 34, 38, 39, 40, 43, 44, 11, 41, 10,\n",
       "       42], dtype=int64)"
      ]
     },
     "execution_count": 20,
     "metadata": {},
     "output_type": "execute_result"
    }
   ],
   "source": [
    "# Check unique values of age at 1st birth\n",
    "df['age at 1st birth'].unique()"
   ]
  },
  {
   "cell_type": "code",
   "execution_count": 21,
   "metadata": {},
   "outputs": [
    {
     "data": {
      "text/plain": [
       "array([20, 31, 33, 45, 43, 25, 37, 35, 34, 27, 29, 32, 40, 26, 39, 36, 49,\n",
       "       30, 48, 44, 18, 24, 28, 38, 23, 41, 47, 46, 22, 42, 21, 17, 19, 16,\n",
       "       15], dtype=int64)"
      ]
     },
     "execution_count": 21,
     "metadata": {},
     "output_type": "execute_result"
    }
   ],
   "source": [
    "# Check unique values of current age\n",
    "df['current age'].unique()"
   ]
  },
  {
   "cell_type": "markdown",
   "metadata": {},
   "source": [
    "We see that `age at 1st sex` and `age at 1st menses` are actually numeric. However, categories that were included to capture inconsistent responses had caused their type to be changed to non-numeric. We drop the observations that have non-numeric values for age, and convert the column to integer."
   ]
  },
  {
   "cell_type": "code",
   "execution_count": 22,
   "metadata": {},
   "outputs": [
    {
     "data": {
      "text/plain": [
       "dtype('int32')"
      ]
     },
     "execution_count": 22,
     "metadata": {},
     "output_type": "execute_result"
    }
   ],
   "source": [
    "# Drop the observations marked as `inconsistent`\n",
    "df.drop(df[df['age at 1st sex']=='inconsistent'].index, inplace=True)\n",
    "\n",
    "# Convert column to integer \n",
    "df['age at 1st sex'] = df['age at 1st sex'].astype(int)\n",
    "df['age at 1st sex'].dtype"
   ]
  },
  {
   "cell_type": "code",
   "execution_count": 23,
   "metadata": {},
   "outputs": [
    {
     "data": {
      "text/plain": [
       "array([10, 18, 22, 17, 13, 19, 11, 15, 14, 21, 25, 20, 12, 16, 23, 24, 26,\n",
       "       28, 30, 27, 33, 32,  8, 31, 29,  9, 38])"
      ]
     },
     "execution_count": 23,
     "metadata": {},
     "output_type": "execute_result"
    }
   ],
   "source": [
    "# Check age at first sex again\n",
    "df['age at 1st sex'].unique()"
   ]
  },
  {
   "cell_type": "code",
   "execution_count": 24,
   "metadata": {},
   "outputs": [
    {
     "data": {
      "text/plain": [
       "dtype('int32')"
      ]
     },
     "execution_count": 24,
     "metadata": {},
     "output_type": "execute_result"
    }
   ],
   "source": [
    "# Drop the observations marked as `don't know` and `never menstruated`\n",
    "df.drop(df[df['age at 1st menses']==\"don't know\"].index, inplace=True)\n",
    "df.drop(df[df['age at 1st menses']==\"never menstruated\"].index, inplace=True)\n",
    "\n",
    "# Convert to integer column\n",
    "df['age at 1st menses'] = df['age at 1st menses'].astype(int)\n",
    "df['age at 1st menses'].dtype"
   ]
  },
  {
   "cell_type": "code",
   "execution_count": 25,
   "metadata": {},
   "outputs": [
    {
     "data": {
      "text/plain": [
       "array([11, 16, 17, 15, 14, 12, 13, 19, 10, 20,  9, 18, 39, 21, 25, 23, 45,\n",
       "       31, 22,  8, 49, 37, 24, 40,  7, 27, 30, 26])"
      ]
     },
     "execution_count": 25,
     "metadata": {},
     "output_type": "execute_result"
    }
   ],
   "source": [
    "# Check unique values of age at first menses\n",
    "df['age at 1st menses'].unique()"
   ]
  },
  {
   "cell_type": "code",
   "execution_count": 26,
   "metadata": {},
   "outputs": [
    {
     "data": {
      "text/html": [
       "<div>\n",
       "<style scoped>\n",
       "    .dataframe tbody tr th:only-of-type {\n",
       "        vertical-align: middle;\n",
       "    }\n",
       "\n",
       "    .dataframe tbody tr th {\n",
       "        vertical-align: top;\n",
       "    }\n",
       "\n",
       "    .dataframe thead th {\n",
       "        text-align: right;\n",
       "    }\n",
       "</style>\n",
       "<table border=\"1\" class=\"dataframe\">\n",
       "  <thead>\n",
       "    <tr style=\"text-align: right;\">\n",
       "      <th></th>\n",
       "      <th>count</th>\n",
       "      <th>mean</th>\n",
       "      <th>std</th>\n",
       "      <th>min</th>\n",
       "      <th>25%</th>\n",
       "      <th>50%</th>\n",
       "      <th>75%</th>\n",
       "      <th>max</th>\n",
       "    </tr>\n",
       "  </thead>\n",
       "  <tbody>\n",
       "    <tr>\n",
       "      <th>current age</th>\n",
       "      <td>10018.0</td>\n",
       "      <td>33.478339</td>\n",
       "      <td>8.247481</td>\n",
       "      <td>15.0</td>\n",
       "      <td>27.0</td>\n",
       "      <td>33.0</td>\n",
       "      <td>40.0</td>\n",
       "      <td>49.0</td>\n",
       "    </tr>\n",
       "    <tr>\n",
       "      <th>age at 1st birth</th>\n",
       "      <td>10018.0</td>\n",
       "      <td>20.881713</td>\n",
       "      <td>4.200439</td>\n",
       "      <td>10.0</td>\n",
       "      <td>18.0</td>\n",
       "      <td>20.0</td>\n",
       "      <td>23.0</td>\n",
       "      <td>44.0</td>\n",
       "    </tr>\n",
       "    <tr>\n",
       "      <th>age at 1st menses</th>\n",
       "      <td>10018.0</td>\n",
       "      <td>14.982631</td>\n",
       "      <td>1.986854</td>\n",
       "      <td>7.0</td>\n",
       "      <td>14.0</td>\n",
       "      <td>15.0</td>\n",
       "      <td>16.0</td>\n",
       "      <td>49.0</td>\n",
       "    </tr>\n",
       "    <tr>\n",
       "      <th>age at 1st sex</th>\n",
       "      <td>10018.0</td>\n",
       "      <td>17.192953</td>\n",
       "      <td>2.953738</td>\n",
       "      <td>8.0</td>\n",
       "      <td>15.0</td>\n",
       "      <td>17.0</td>\n",
       "      <td>19.0</td>\n",
       "      <td>38.0</td>\n",
       "    </tr>\n",
       "  </tbody>\n",
       "</table>\n",
       "</div>"
      ],
      "text/plain": [
       "                     count       mean       std   min   25%   50%   75%   max\n",
       "current age        10018.0  33.478339  8.247481  15.0  27.0  33.0  40.0  49.0\n",
       "age at 1st birth   10018.0  20.881713  4.200439  10.0  18.0  20.0  23.0  44.0\n",
       "age at 1st menses  10018.0  14.982631  1.986854   7.0  14.0  15.0  16.0  49.0\n",
       "age at 1st sex     10018.0  17.192953  2.953738   8.0  15.0  17.0  19.0  38.0"
      ]
     },
     "execution_count": 26,
     "metadata": {},
     "output_type": "execute_result"
    }
   ],
   "source": [
    "# Check summary statistics for numeric variables\n",
    "df.describe().transpose()"
   ]
  },
  {
   "cell_type": "markdown",
   "metadata": {},
   "source": [
    "### Dealing with Outliers"
   ]
  },
  {
   "cell_type": "markdown",
   "metadata": {},
   "source": [
    "`current age` is within the range of ages of women interviewed for the DHS. However, for `age at 1st birth`, we notice that we have a value as low as 10. We also see that the maximum for `age at 1st menses` is 49. These values are quite unusual, and give a hint that we may require an examination of outliers in our numeric variables."
   ]
  },
  {
   "cell_type": "code",
   "execution_count": 27,
   "metadata": {},
   "outputs": [
    {
     "name": "stdout",
     "output_type": "stream",
     "text": [
      "Age at first menses\n",
      "-----------------------------------\n",
      "Q1 (25th percentile): 14.0\n",
      "Q3 (75th percentile): 16.0\n",
      "IQR (Interquartile Range): 2.0\n",
      "Lower Bound (Q1 - 1.5 * IQR): 11.0\n",
      "Upper Bound (Q3 + 1.5 * IQR): 19.0\n",
      "----------------------------------- \n",
      "\n",
      "Age at first birth\n",
      "-----------------------------------\n",
      "Q1 (25th percentile): 18.0\n",
      "Q3 (75th percentile): 23.0\n",
      "IQR (Interquartile Range): 5.0\n",
      "Lower Bound (Q1 - 1.5 * IQR): 10.5\n",
      "Upper Bound (Q3 + 1.5 * IQR): 30.5\n",
      "----------------------------------- \n",
      "\n"
     ]
    }
   ],
   "source": [
    "variables = ['age at 1st menses', 'age at 1st birth']\n",
    "names = ['menses', 'birth']\n",
    "\n",
    "for var, name in zip(variables, names):\n",
    "    Q1 = df[var].quantile(0.25)\n",
    "    Q3 = df[var].quantile(0.75)\n",
    "    IQR = Q3 - Q1\n",
    "    lower_bound = Q1 - 1.5 * IQR\n",
    "    upper_bound = Q3 + 1.5 * IQR\n",
    "\n",
    "    print(f\"Age at first {name}\")\n",
    "    print('-'*35)\n",
    "    print(\"Q1 (25th percentile):\", Q1)\n",
    "    print(\"Q3 (75th percentile):\", Q3)\n",
    "    print(\"IQR (Interquartile Range):\", IQR)\n",
    "    print(\"Lower Bound (Q1 - 1.5 * IQR):\", lower_bound)\n",
    "    print(\"Upper Bound (Q3 + 1.5 * IQR):\", upper_bound)\n",
    "    print('-'*35,\"\\n\")"
   ]
  },
  {
   "cell_type": "code",
   "execution_count": 28,
   "metadata": {},
   "outputs": [
    {
     "data": {
      "text/plain": [
       "(9537, 12)"
      ]
     },
     "execution_count": 28,
     "metadata": {},
     "output_type": "execute_result"
    }
   ],
   "source": [
    "for var, name in zip(variables, names):\n",
    "    Q1 = df[var].quantile(0.25)\n",
    "    Q3 = df[var].quantile(0.75)\n",
    "    IQR = Q3 - Q1\n",
    "    lower_bound = Q1 - 1.5 * IQR\n",
    "    upper_bound = Q3 + 1.5 * IQR\n",
    "\n",
    "    outliers_iqr = df[(df[var] < lower_bound) | (df[var] > upper_bound)]\n",
    "    df.drop(outliers_iqr.index, inplace=True)\n",
    "\n",
    "# Examine shape of data after dropping outliers\n",
    "df.shape"
   ]
  },
  {
   "cell_type": "markdown",
   "metadata": {},
   "source": [
    "### Visualizing Numeric Variables"
   ]
  },
  {
   "cell_type": "code",
   "execution_count": 29,
   "metadata": {},
   "outputs": [
    {
     "data": {
      "text/plain": [
       "<Axes: >"
      ]
     },
     "execution_count": 29,
     "metadata": {},
     "output_type": "execute_result"
    },
    {
     "data": {
      "image/png": "[encoded data removed]",
      "text/plain": [
       "<Figure size 640x480 with 1 Axes>"
      ]
     },
     "metadata": {},
     "output_type": "display_data"
    }
   ],
   "source": [
    "df['age at 1st birth'].hist()"
   ]
  },
  {
   "cell_type": "code",
   "execution_count": 30,
   "metadata": {},
   "outputs": [
    {
     "data": {
      "text/plain": [
       "<Axes: >"
      ]
     },
     "execution_count": 30,
     "metadata": {},
     "output_type": "execute_result"
    },
    {
     "data": {
      "image/png": "[encoded data removed]",
      "text/plain": [
       "<Figure size 640x480 with 1 Axes>"
      ]
     },
     "metadata": {},
     "output_type": "display_data"
    }
   ],
   "source": [
    "df['age at 1st menses'].hist()"
   ]
  },
  {
   "cell_type": "code",
   "execution_count": 31,
   "metadata": {},
   "outputs": [
    {
     "data": {
      "text/plain": [
       "<Axes: >"
      ]
     },
     "execution_count": 31,
     "metadata": {},
     "output_type": "execute_result"
    },
    {
     "data": {
      "image/png": "[encoded data removed]",
      "text/plain": [
       "<Figure size 640x480 with 1 Axes>"
      ]
     },
     "metadata": {},
     "output_type": "display_data"
    }
   ],
   "source": [
    "df['age at 1st sex'].hist()"
   ]
  },
  {
   "cell_type": "markdown",
   "metadata": {},
   "source": [
    "The graphs show that most of the women had their first child between 17 and 24, and had their first menstrual period between 13 and 18. The majority of women in the sample also had their first sexual intercourse when they were between 14 and 21 years old."
   ]
  },
  {
   "cell_type": "markdown",
   "metadata": {},
   "source": [
    "### Creating Target Variable"
   ]
  },
  {
   "cell_type": "code",
   "execution_count": 32,
   "metadata": {},
   "outputs": [],
   "source": [
    "# Create target variable\n",
    "def teen_birth_label(row):\n",
    "    # teen birth defined as birth at age 19 or below\n",
    "    if row['age at 1st birth'] <= 19:\n",
    "        return 'yes'\n",
    "    else:\n",
    "        return 'no'\n",
    "    \n",
    "df['teen birth'] = df.apply(teen_birth_label, axis=1)"
   ]
  },
  {
   "cell_type": "code",
   "execution_count": 33,
   "metadata": {},
   "outputs": [
    {
     "name": "stdout",
     "output_type": "stream",
     "text": [
      "No. of rows where age at first birth <= 19: 4168\n",
      "No. of rows where teen birth is yes: 4168\n"
     ]
    }
   ],
   "source": [
    "# Check that the labels of `teen birth` and `age at 1st birth` correspond\n",
    "print('No. of rows where age at first birth <= 19:', len(df[df['age at 1st birth'] <= 19]))\n",
    "print('No. of rows where teen birth is yes:', len(df[df['teen birth']=='yes']))"
   ]
  },
  {
   "cell_type": "code",
   "execution_count": 34,
   "metadata": {},
   "outputs": [
    {
     "data": {
      "text/html": [
       "<div>\n",
       "<style scoped>\n",
       "    .dataframe tbody tr th:only-of-type {\n",
       "        vertical-align: middle;\n",
       "    }\n",
       "\n",
       "    .dataframe tbody tr th {\n",
       "        vertical-align: top;\n",
       "    }\n",
       "\n",
       "    .dataframe thead th {\n",
       "        text-align: right;\n",
       "    }\n",
       "</style>\n",
       "<table border=\"1\" class=\"dataframe\">\n",
       "  <thead>\n",
       "    <tr style=\"text-align: right;\">\n",
       "      <th></th>\n",
       "      <th>age at 1st birth</th>\n",
       "      <th>teen birth</th>\n",
       "    </tr>\n",
       "  </thead>\n",
       "  <tbody>\n",
       "    <tr>\n",
       "      <th>0</th>\n",
       "      <td>13</td>\n",
       "      <td>yes</td>\n",
       "    </tr>\n",
       "    <tr>\n",
       "      <th>1</th>\n",
       "      <td>20</td>\n",
       "      <td>no</td>\n",
       "    </tr>\n",
       "    <tr>\n",
       "      <th>2</th>\n",
       "      <td>27</td>\n",
       "      <td>no</td>\n",
       "    </tr>\n",
       "    <tr>\n",
       "      <th>3</th>\n",
       "      <td>24</td>\n",
       "      <td>no</td>\n",
       "    </tr>\n",
       "    <tr>\n",
       "      <th>4</th>\n",
       "      <td>23</td>\n",
       "      <td>no</td>\n",
       "    </tr>\n",
       "  </tbody>\n",
       "</table>\n",
       "</div>"
      ],
      "text/plain": [
       "   age at 1st birth teen birth\n",
       "0                13        yes\n",
       "1                20         no\n",
       "2                27         no\n",
       "3                24         no\n",
       "4                23         no"
      ]
     },
     "execution_count": 34,
     "metadata": {},
     "output_type": "execute_result"
    }
   ],
   "source": [
    "# Check if `teen birth`` has the right labels\n",
    "df[['age at 1st birth', 'teen birth']].head()"
   ]
  },
  {
   "cell_type": "markdown",
   "metadata": {},
   "source": [
    "### Visualizing Categorical Variables"
   ]
  },
  {
   "cell_type": "code",
   "execution_count": 35,
   "metadata": {},
   "outputs": [
    {
     "data": {
      "text/plain": [
       "<Figure size 700x500 with 0 Axes>"
      ]
     },
     "metadata": {},
     "output_type": "display_data"
    },
    {
     "data": {
      "image/png": "[encoded data removed]",
      "text/plain": [
       "<Figure size 1400x1200 with 5 Axes>"
      ]
     },
     "metadata": {},
     "output_type": "display_data"
    }
   ],
   "source": [
    "# Create list of categorical features\n",
    "cat_feats = ['rural/urban', 'highest education', 'religion', 'wealth category', 'marital status']\n",
    "\n",
    "# Define your color palette\n",
    "mypal = ['#DB9E1E', '#37A425']\n",
    "#DB9E1E #D9B418\n",
    "# Initialize the matplotlib figure with a specific size and background color\n",
    "plt.figure(figsize=(7, 5), facecolor='#F6F5F4')\n",
    "\n",
    "L = len(cat_feats)\n",
    "ncol = 2\n",
    "nrow = int(np.ceil(L / ncol))\n",
    "\n",
    "fig, axs = plt.subplots(nrow, ncol, figsize=(14, 12), facecolor='#F6F5F4')\n",
    "fig.subplots_adjust(top=0.92)\n",
    "\n",
    "# Flatten the axs array for easy indexing\n",
    "axs = axs.flatten()\n",
    "\n",
    "for i, col in enumerate(cat_feats):\n",
    "    sns.countplot(data=df, x=col, hue='teen birth', palette=mypal, ax=axs[i])\n",
    "\n",
    "    axs[i].set_xlabel(col, fontsize=20)\n",
    "    axs[i].set_ylabel('Count', fontsize=20)\n",
    "    sns.despine(right=True, ax=axs[i])\n",
    "\n",
    "# Remove any unused axes if num_feats is odd\n",
    "if L % 2 != 0:\n",
    "    fig.delaxes(axs[-1])\n",
    "\n",
    "plt.suptitle('Distribution of Categorical Features', fontsize=24)\n",
    "plt.tight_layout()\n",
    "plt.show()"
   ]
  },
  {
   "cell_type": "markdown",
   "metadata": {},
   "source": [
    "We see a much wider difference between the number adolescent mothers and non-adolescent mothers in urban areas compared to rural areas. There is also a much wider gap for women who have completed secondary school or higher education compared to those with no education or only primary education. A similar pattern applies to the wealth categories: there is a wider gap for women from rich households than poor households.\n",
    "\n",
    "Another thing we notice from the above graphs is that there are still categories that can be merged, since they have very similar characteristics in terms of their distribution, and therefore are not likely to significantly affect the predictions of the model."
   ]
  },
  {
   "cell_type": "code",
   "execution_count": 36,
   "metadata": {},
   "outputs": [
    {
     "name": "stdout",
     "output_type": "stream",
     "text": [
      "['christian' 'islam' 'other']\n",
      "['middle' 'poor' 'rich']\n",
      "['secondary' 'none/primary' 'higher']\n"
     ]
    }
   ],
   "source": [
    "import warnings\n",
    "warnings.simplefilter('ignore')\n",
    "\n",
    "educ = ['primary', 'no education']\n",
    "religion = ['no religion', 'traditional/spiritualist']\n",
    "wealth = ['poorer', 'poorest', 'richer', 'richest']\n",
    "\n",
    "# Group `no religion` and `traditionalist` with `other` \n",
    "for n in religion:\n",
    "    df['religion'][df['religion']==n] = 'other'\n",
    "\n",
    "# Group `primary` and `no education` in a single category\n",
    "for n in educ:\n",
    "    df['highest education'][df['highest education']==n] = 'none/primary'\n",
    "\n",
    "# Group `poorest` and `poorer` under poor; `richest` and `richer` under `rich`\n",
    "for w in wealth:\n",
    "    if w in [wealth[0], wealth[1]]:\n",
    "        df['wealth category'][df['wealth category']==w] = 'poor'\n",
    "    elif w in [wealth[2], wealth[3]]:\n",
    "        df['wealth category'][df['wealth category']==w] = 'rich'\n",
    "\n",
    "\n",
    "\n",
    "print(df['religion'].unique())\n",
    "print(df['wealth category'].unique())\n",
    "print(df['highest education'].unique())"
   ]
  },
  {
   "cell_type": "code",
   "execution_count": 37,
   "metadata": {},
   "outputs": [
    {
     "data": {
      "text/plain": [
       "<Figure size 700x500 with 0 Axes>"
      ]
     },
     "metadata": {},
     "output_type": "display_data"
    },
    {
     "data": {
      "image/png": "[encoded data removed]",
      "text/plain": [
       "<Figure size 1000x800 with 3 Axes>"
      ]
     },
     "metadata": {},
     "output_type": "display_data"
    }
   ],
   "source": [
    "# Create list of categorical features\n",
    "new_feats = ['highest education', 'religion', 'wealth category']\n",
    "\n",
    "# Define your color palette\n",
    "mypal = ['#DB9E1E', '#37A425']\n",
    "\n",
    "# Initialize the matplotlib figure with a specific size and background color\n",
    "plt.figure(figsize=(7, 5), facecolor='#F6F5F4')\n",
    "\n",
    "L = len(new_feats)\n",
    "ncol = 2\n",
    "nrow = int(np.ceil(L / ncol))\n",
    "\n",
    "fig, axs = plt.subplots(nrow, ncol, figsize=(10, 8), facecolor='#F6F5F4')\n",
    "fig.subplots_adjust(top=0.92)\n",
    "\n",
    "# Flatten the axs array for easy indexing\n",
    "axs = axs.flatten()\n",
    "\n",
    "for i, col in enumerate(new_feats):\n",
    "    sns.countplot(data=df, x=col, hue='teen birth', palette=mypal, ax=axs[i])\n",
    "\n",
    "    axs[i].set_xlabel(col, fontsize=15)\n",
    "    axs[i].set_ylabel('Count', fontsize=15)\n",
    "    sns.despine(right=True, ax=axs[i])\n",
    "\n",
    "# Remove any unused axes if num_feats is odd\n",
    "if L % 2 != 0:\n",
    "    fig.delaxes(axs[-1])\n",
    "\n",
    "plt.suptitle('Distribution of Categorical Features', fontsize=20)\n",
    "plt.tight_layout()\n",
    "plt.show()"
   ]
  },
  {
   "cell_type": "markdown",
   "metadata": {},
   "source": [
    "We now visualize the distribution by `region` and `ethnic group`."
   ]
  },
  {
   "cell_type": "code",
   "execution_count": 38,
   "metadata": {},
   "outputs": [
    {
     "data": {
      "text/plain": [
       "<Figure size 700x500 with 0 Axes>"
      ]
     },
     "metadata": {},
     "output_type": "display_data"
    },
    {
     "data": {
      "image/png": "[encoded data removed]",
      "text/plain": [
       "<Figure size 1200x500 with 2 Axes>"
      ]
     },
     "metadata": {},
     "output_type": "display_data"
    }
   ],
   "source": [
    "cat_feats2 = ['region', 'ethnic group']\n",
    "\n",
    "# Initialize the matplotlib figure with a specific size and background color\n",
    "plt.figure(figsize=(7, 5), facecolor='#F6F5F4')\n",
    "\n",
    "L = len(cat_feats2)\n",
    "ncol = 2\n",
    "nrow = int(np.ceil(L / ncol))\n",
    "\n",
    "fig, axs = plt.subplots(nrow, ncol, figsize=(12, 5), facecolor='#F6F5F4')\n",
    "fig.subplots_adjust(top=0.92)\n",
    "\n",
    "# Flatten the axs array for easy indexing\n",
    "axs = axs.flatten()\n",
    "\n",
    "for i, col in enumerate(cat_feats2):\n",
    "    sns.countplot(data=df, x=col, hue='teen birth', palette=mypal, ax=axs[i])\n",
    "\n",
    "    axs[i].tick_params(axis='x', labelrotation=90)\n",
    "    axs[i].set_xlabel(col, fontsize=20)\n",
    "    axs[i].set_ylabel('Count', fontsize=20)\n",
    "    sns.despine(right=True, ax=axs[i])\n",
    "\n",
    "# Remove any unused axes if num_feats is odd\n",
    "if L % 2 != 0:\n",
    "    fig.delaxes(axs[-1])\n",
    "\n",
    "plt.suptitle('Distribution of Categorical Features', fontsize=24)\n",
    "plt.tight_layout()\n",
    "plt.show()"
   ]
  },
  {
   "cell_type": "code",
   "execution_count": 39,
   "metadata": {},
   "outputs": [
    {
     "data": {
      "image/png": "[encoded data removed]",
      "text/plain": [
       "<Figure size 640x480 with 2 Axes>"
      ]
     },
     "metadata": {},
     "output_type": "display_data"
    }
   ],
   "source": [
    "# Creating correlation matrix\n",
    "corr = df.corr(numeric_only=True)\n",
    "\n",
    "sns.heatmap(corr, annot=True, cmap='YlGn')\n",
    "plt.title('Correlation Matrix of Teen births Dataset')\n",
    "plt.show()"
   ]
  },
  {
   "cell_type": "markdown",
   "metadata": {},
   "source": [
    "The correlation matrix shows high correlation between `age at 1st sex` and `age at 1st birth`, which is a relationship we expect. This also means that `age at 1st sex` will be highly correlated with the target variable `teen birth`."
   ]
  },
  {
   "cell_type": "code",
   "execution_count": 40,
   "metadata": {},
   "outputs": [
    {
     "data": {
      "text/html": [
       "<div>\n",
       "<style scoped>\n",
       "    .dataframe tbody tr th:only-of-type {\n",
       "        vertical-align: middle;\n",
       "    }\n",
       "\n",
       "    .dataframe tbody tr th {\n",
       "        vertical-align: top;\n",
       "    }\n",
       "\n",
       "    .dataframe thead th {\n",
       "        text-align: right;\n",
       "    }\n",
       "</style>\n",
       "<table border=\"1\" class=\"dataframe\">\n",
       "  <thead>\n",
       "    <tr style=\"text-align: right;\">\n",
       "      <th></th>\n",
       "      <th>current age</th>\n",
       "      <th>age at 1st menses</th>\n",
       "      <th>age at 1st sex</th>\n",
       "    </tr>\n",
       "    <tr>\n",
       "      <th>teen birth</th>\n",
       "      <th></th>\n",
       "      <th></th>\n",
       "      <th></th>\n",
       "    </tr>\n",
       "  </thead>\n",
       "  <tbody>\n",
       "    <tr>\n",
       "      <th>no</th>\n",
       "      <td>34.218663</td>\n",
       "      <td>15.158130</td>\n",
       "      <td>18.343453</td>\n",
       "    </tr>\n",
       "    <tr>\n",
       "      <th>yes</th>\n",
       "      <td>32.023033</td>\n",
       "      <td>14.652591</td>\n",
       "      <td>15.508397</td>\n",
       "    </tr>\n",
       "  </tbody>\n",
       "</table>\n",
       "</div>"
      ],
      "text/plain": [
       "            current age  age at 1st menses  age at 1st sex\n",
       "teen birth                                                \n",
       "no            34.218663          15.158130       18.343453\n",
       "yes           32.023033          14.652591       15.508397"
      ]
     },
     "execution_count": 40,
     "metadata": {},
     "output_type": "execute_result"
    }
   ],
   "source": [
    "# Summary statistics of numeric variables by target categories\n",
    "df.groupby('teen birth')[['current age', 'age at 1st menses', 'age at 1st sex']].mean()"
   ]
  },
  {
   "cell_type": "markdown",
   "metadata": {},
   "source": [
    "Average `age at 1st sex` is almost 3 years lower for women who had their first child when they were adolescents. Women who had their first child when they were adolescents are also, on average, younger."
   ]
  },
  {
   "cell_type": "markdown",
   "metadata": {},
   "source": [
    "## Modelling"
   ]
  },
  {
   "cell_type": "code",
   "execution_count": 41,
   "metadata": {},
   "outputs": [],
   "source": [
    "# import required libraries\n",
    "from sklearn.tree import DecisionTreeClassifier\n",
    "from sklearn.linear_model import LogisticRegression\n",
    "from sklearn.neighbors import KNeighborsClassifier\n",
    "from sklearn.svm import SVC\n",
    "from sklearn.metrics import accuracy_score, classification_report, confusion_matrix\n",
    "from sklearn.model_selection import train_test_split\n",
    "from sklearn.model_selection import cross_val_score, cross_val_predict"
   ]
  },
  {
   "cell_type": "code",
   "execution_count": 42,
   "metadata": {},
   "outputs": [
    {
     "data": {
      "text/html": [
       "<div>\n",
       "<style scoped>\n",
       "    .dataframe tbody tr th:only-of-type {\n",
       "        vertical-align: middle;\n",
       "    }\n",
       "\n",
       "    .dataframe tbody tr th {\n",
       "        vertical-align: top;\n",
       "    }\n",
       "\n",
       "    .dataframe thead th {\n",
       "        text-align: right;\n",
       "    }\n",
       "</style>\n",
       "<table border=\"1\" class=\"dataframe\">\n",
       "  <thead>\n",
       "    <tr style=\"text-align: right;\">\n",
       "      <th></th>\n",
       "      <th>current age</th>\n",
       "      <th>region</th>\n",
       "      <th>rural/urban</th>\n",
       "      <th>highest education</th>\n",
       "      <th>religion</th>\n",
       "      <th>ethnic group</th>\n",
       "      <th>wealth category</th>\n",
       "      <th>age at 1st menses</th>\n",
       "      <th>marital status</th>\n",
       "      <th>age at 1st sex</th>\n",
       "      <th>teen birth</th>\n",
       "    </tr>\n",
       "  </thead>\n",
       "  <tbody>\n",
       "    <tr>\n",
       "      <th>0</th>\n",
       "      <td>20</td>\n",
       "      <td>western</td>\n",
       "      <td>rural</td>\n",
       "      <td>secondary</td>\n",
       "      <td>christian</td>\n",
       "      <td>akan</td>\n",
       "      <td>middle</td>\n",
       "      <td>11</td>\n",
       "      <td>never in union</td>\n",
       "      <td>10</td>\n",
       "      <td>yes</td>\n",
       "    </tr>\n",
       "    <tr>\n",
       "      <th>1</th>\n",
       "      <td>31</td>\n",
       "      <td>western</td>\n",
       "      <td>rural</td>\n",
       "      <td>secondary</td>\n",
       "      <td>christian</td>\n",
       "      <td>akan</td>\n",
       "      <td>poor</td>\n",
       "      <td>16</td>\n",
       "      <td>married/in union</td>\n",
       "      <td>18</td>\n",
       "      <td>no</td>\n",
       "    </tr>\n",
       "    <tr>\n",
       "      <th>2</th>\n",
       "      <td>33</td>\n",
       "      <td>western</td>\n",
       "      <td>rural</td>\n",
       "      <td>secondary</td>\n",
       "      <td>christian</td>\n",
       "      <td>akan</td>\n",
       "      <td>rich</td>\n",
       "      <td>17</td>\n",
       "      <td>married/in union</td>\n",
       "      <td>22</td>\n",
       "      <td>no</td>\n",
       "    </tr>\n",
       "    <tr>\n",
       "      <th>3</th>\n",
       "      <td>45</td>\n",
       "      <td>western</td>\n",
       "      <td>rural</td>\n",
       "      <td>secondary</td>\n",
       "      <td>christian</td>\n",
       "      <td>akan</td>\n",
       "      <td>poor</td>\n",
       "      <td>15</td>\n",
       "      <td>not currently in union</td>\n",
       "      <td>17</td>\n",
       "      <td>no</td>\n",
       "    </tr>\n",
       "    <tr>\n",
       "      <th>4</th>\n",
       "      <td>43</td>\n",
       "      <td>western</td>\n",
       "      <td>rural</td>\n",
       "      <td>secondary</td>\n",
       "      <td>christian</td>\n",
       "      <td>akan</td>\n",
       "      <td>rich</td>\n",
       "      <td>16</td>\n",
       "      <td>not currently in union</td>\n",
       "      <td>18</td>\n",
       "      <td>no</td>\n",
       "    </tr>\n",
       "  </tbody>\n",
       "</table>\n",
       "</div>"
      ],
      "text/plain": [
       "   current age   region rural/urban highest education   religion ethnic group  \\\n",
       "0           20  western       rural         secondary  christian         akan   \n",
       "1           31  western       rural         secondary  christian         akan   \n",
       "2           33  western       rural         secondary  christian         akan   \n",
       "3           45  western       rural         secondary  christian         akan   \n",
       "4           43  western       rural         secondary  christian         akan   \n",
       "\n",
       "  wealth category  age at 1st menses          marital status  age at 1st sex  \\\n",
       "0          middle                 11          never in union              10   \n",
       "1            poor                 16        married/in union              18   \n",
       "2            rich                 17        married/in union              22   \n",
       "3            poor                 15  not currently in union              17   \n",
       "4            rich                 16  not currently in union              18   \n",
       "\n",
       "  teen birth  \n",
       "0        yes  \n",
       "1         no  \n",
       "2         no  \n",
       "3         no  \n",
       "4         no  "
      ]
     },
     "execution_count": 42,
     "metadata": {},
     "output_type": "execute_result"
    }
   ],
   "source": [
    "# Drop `age at 1st birth` and `age group`\n",
    "df.drop(columns=['age at 1st birth', 'age group'], inplace=True)\n",
    "df.head()"
   ]
  },
  {
   "cell_type": "code",
   "execution_count": 43,
   "metadata": {},
   "outputs": [
    {
     "data": {
      "text/html": [
       "<div>\n",
       "<style scoped>\n",
       "    .dataframe tbody tr th:only-of-type {\n",
       "        vertical-align: middle;\n",
       "    }\n",
       "\n",
       "    .dataframe tbody tr th {\n",
       "        vertical-align: top;\n",
       "    }\n",
       "\n",
       "    .dataframe thead th {\n",
       "        text-align: right;\n",
       "    }\n",
       "</style>\n",
       "<table border=\"1\" class=\"dataframe\">\n",
       "  <thead>\n",
       "    <tr style=\"text-align: right;\">\n",
       "      <th></th>\n",
       "      <th>current age</th>\n",
       "      <th>age at 1st menses</th>\n",
       "      <th>age at 1st sex</th>\n",
       "      <th>teen birth</th>\n",
       "      <th>rural/urban_urban</th>\n",
       "      <th>highest education_none/primary</th>\n",
       "      <th>highest education_secondary</th>\n",
       "      <th>wealth category_poor</th>\n",
       "      <th>wealth category_rich</th>\n",
       "      <th>region_ashanti</th>\n",
       "      <th>...</th>\n",
       "      <th>ethnic group_grusi</th>\n",
       "      <th>ethnic group_guan</th>\n",
       "      <th>ethnic group_gurma</th>\n",
       "      <th>ethnic group_mande</th>\n",
       "      <th>ethnic group_mole-dagbani</th>\n",
       "      <th>ethnic group_other</th>\n",
       "      <th>marital status_never in union</th>\n",
       "      <th>marital status_not currently in union</th>\n",
       "      <th>religion_islam</th>\n",
       "      <th>religion_other</th>\n",
       "    </tr>\n",
       "  </thead>\n",
       "  <tbody>\n",
       "    <tr>\n",
       "      <th>0</th>\n",
       "      <td>20</td>\n",
       "      <td>11</td>\n",
       "      <td>10</td>\n",
       "      <td>yes</td>\n",
       "      <td>False</td>\n",
       "      <td>False</td>\n",
       "      <td>True</td>\n",
       "      <td>False</td>\n",
       "      <td>False</td>\n",
       "      <td>False</td>\n",
       "      <td>...</td>\n",
       "      <td>False</td>\n",
       "      <td>False</td>\n",
       "      <td>False</td>\n",
       "      <td>False</td>\n",
       "      <td>False</td>\n",
       "      <td>False</td>\n",
       "      <td>True</td>\n",
       "      <td>False</td>\n",
       "      <td>False</td>\n",
       "      <td>False</td>\n",
       "    </tr>\n",
       "    <tr>\n",
       "      <th>1</th>\n",
       "      <td>31</td>\n",
       "      <td>16</td>\n",
       "      <td>18</td>\n",
       "      <td>no</td>\n",
       "      <td>False</td>\n",
       "      <td>False</td>\n",
       "      <td>True</td>\n",
       "      <td>True</td>\n",
       "      <td>False</td>\n",
       "      <td>False</td>\n",
       "      <td>...</td>\n",
       "      <td>False</td>\n",
       "      <td>False</td>\n",
       "      <td>False</td>\n",
       "      <td>False</td>\n",
       "      <td>False</td>\n",
       "      <td>False</td>\n",
       "      <td>False</td>\n",
       "      <td>False</td>\n",
       "      <td>False</td>\n",
       "      <td>False</td>\n",
       "    </tr>\n",
       "    <tr>\n",
       "      <th>2</th>\n",
       "      <td>33</td>\n",
       "      <td>17</td>\n",
       "      <td>22</td>\n",
       "      <td>no</td>\n",
       "      <td>False</td>\n",
       "      <td>False</td>\n",
       "      <td>True</td>\n",
       "      <td>False</td>\n",
       "      <td>True</td>\n",
       "      <td>False</td>\n",
       "      <td>...</td>\n",
       "      <td>False</td>\n",
       "      <td>False</td>\n",
       "      <td>False</td>\n",
       "      <td>False</td>\n",
       "      <td>False</td>\n",
       "      <td>False</td>\n",
       "      <td>False</td>\n",
       "      <td>False</td>\n",
       "      <td>False</td>\n",
       "      <td>False</td>\n",
       "    </tr>\n",
       "    <tr>\n",
       "      <th>3</th>\n",
       "      <td>45</td>\n",
       "      <td>15</td>\n",
       "      <td>17</td>\n",
       "      <td>no</td>\n",
       "      <td>False</td>\n",
       "      <td>False</td>\n",
       "      <td>True</td>\n",
       "      <td>True</td>\n",
       "      <td>False</td>\n",
       "      <td>False</td>\n",
       "      <td>...</td>\n",
       "      <td>False</td>\n",
       "      <td>False</td>\n",
       "      <td>False</td>\n",
       "      <td>False</td>\n",
       "      <td>False</td>\n",
       "      <td>False</td>\n",
       "      <td>False</td>\n",
       "      <td>True</td>\n",
       "      <td>False</td>\n",
       "      <td>False</td>\n",
       "    </tr>\n",
       "    <tr>\n",
       "      <th>4</th>\n",
       "      <td>43</td>\n",
       "      <td>16</td>\n",
       "      <td>18</td>\n",
       "      <td>no</td>\n",
       "      <td>False</td>\n",
       "      <td>False</td>\n",
       "      <td>True</td>\n",
       "      <td>False</td>\n",
       "      <td>True</td>\n",
       "      <td>False</td>\n",
       "      <td>...</td>\n",
       "      <td>False</td>\n",
       "      <td>False</td>\n",
       "      <td>False</td>\n",
       "      <td>False</td>\n",
       "      <td>False</td>\n",
       "      <td>False</td>\n",
       "      <td>False</td>\n",
       "      <td>True</td>\n",
       "      <td>False</td>\n",
       "      <td>False</td>\n",
       "    </tr>\n",
       "  </tbody>\n",
       "</table>\n",
       "<p>5 rows × 36 columns</p>\n",
       "</div>"
      ],
      "text/plain": [
       "   current age  age at 1st menses  age at 1st sex teen birth  \\\n",
       "0           20                 11              10        yes   \n",
       "1           31                 16              18         no   \n",
       "2           33                 17              22         no   \n",
       "3           45                 15              17         no   \n",
       "4           43                 16              18         no   \n",
       "\n",
       "   rural/urban_urban  highest education_none/primary  \\\n",
       "0              False                           False   \n",
       "1              False                           False   \n",
       "2              False                           False   \n",
       "3              False                           False   \n",
       "4              False                           False   \n",
       "\n",
       "   highest education_secondary  wealth category_poor  wealth category_rich  \\\n",
       "0                         True                 False                 False   \n",
       "1                         True                  True                 False   \n",
       "2                         True                 False                  True   \n",
       "3                         True                  True                 False   \n",
       "4                         True                 False                  True   \n",
       "\n",
       "   region_ashanti  ...  ethnic group_grusi  ethnic group_guan  \\\n",
       "0           False  ...               False              False   \n",
       "1           False  ...               False              False   \n",
       "2           False  ...               False              False   \n",
       "3           False  ...               False              False   \n",
       "4           False  ...               False              False   \n",
       "\n",
       "   ethnic group_gurma  ethnic group_mande  ethnic group_mole-dagbani  \\\n",
       "0               False               False                      False   \n",
       "1               False               False                      False   \n",
       "2               False               False                      False   \n",
       "3               False               False                      False   \n",
       "4               False               False                      False   \n",
       "\n",
       "   ethnic group_other  marital status_never in union  \\\n",
       "0               False                           True   \n",
       "1               False                          False   \n",
       "2               False                          False   \n",
       "3               False                          False   \n",
       "4               False                          False   \n",
       "\n",
       "   marital status_not currently in union  religion_islam  religion_other  \n",
       "0                                  False           False           False  \n",
       "1                                  False           False           False  \n",
       "2                                  False           False           False  \n",
       "3                                   True           False           False  \n",
       "4                                   True           False           False  \n",
       "\n",
       "[5 rows x 36 columns]"
      ]
     },
     "execution_count": 43,
     "metadata": {},
     "output_type": "execute_result"
    }
   ],
   "source": [
    "# Encoding categorical variables\n",
    "df = pd.get_dummies(df, columns=['rural/urban', 'highest education', 'wealth category',\n",
    "                                'region', 'ethnic group', 'marital status', 'religion'], drop_first=True)\n",
    "df.head()"
   ]
  },
  {
   "cell_type": "code",
   "execution_count": 44,
   "metadata": {},
   "outputs": [],
   "source": [
    "# Splitting the dataset into features and target variable\n",
    "X = df.drop(['teen birth'], axis=1)\n",
    "y = df['teen birth']\n",
    "\n",
    "# Splitting the dataset into training and testing sets\n",
    "X_train, X_test, y_train, y_test = train_test_split(X, y, test_size=0.3, random_state=42)"
   ]
  },
  {
   "cell_type": "markdown",
   "metadata": {},
   "source": [
    "### Cross Validation"
   ]
  },
  {
   "cell_type": "code",
   "execution_count": 45,
   "metadata": {},
   "outputs": [
    {
     "name": "stdout",
     "output_type": "stream",
     "text": [
      "[0.76928839 0.74831461 0.75280899 0.74157303 0.73932584]\n",
      "0.7502621722846442\n"
     ]
    }
   ],
   "source": [
    "lr = LogisticRegression(max_iter = 2000)\n",
    "cv = cross_val_score(lr, X_train, y_train, cv=5)\n",
    "print(cv)\n",
    "print(cv.mean())"
   ]
  },
  {
   "cell_type": "code",
   "execution_count": 46,
   "metadata": {},
   "outputs": [
    {
     "name": "stdout",
     "output_type": "stream",
     "text": [
      "[0.67940075 0.68764045 0.70037453 0.71235955 0.67490637]\n",
      "0.690936329588015\n"
     ]
    }
   ],
   "source": [
    "dt = DecisionTreeClassifier(random_state = 1)\n",
    "cv = cross_val_score(dt, X_train, y_train, cv=5)\n",
    "print(cv)\n",
    "print(cv.mean())"
   ]
  },
  {
   "cell_type": "code",
   "execution_count": 47,
   "metadata": {},
   "outputs": [
    {
     "name": "stdout",
     "output_type": "stream",
     "text": [
      "[0.7093633  0.70861423 0.71235955 0.71235955 0.70337079]\n",
      "0.7092134831460675\n"
     ]
    }
   ],
   "source": [
    "knn = KNeighborsClassifier(n_neighbors=4)\n",
    "cv = cross_val_score(knn, X_train.values, y_train, cv=5, error_score='raise')\n",
    "print(cv)\n",
    "print(cv.mean())"
   ]
  },
  {
   "cell_type": "code",
   "execution_count": 48,
   "metadata": {},
   "outputs": [
    {
     "name": "stdout",
     "output_type": "stream",
     "text": [
      "[0.75955056 0.75355805 0.76479401 0.74531835 0.7340824 ]\n",
      "0.7514606741573034\n"
     ]
    }
   ],
   "source": [
    "svc = SVC(probability = True)\n",
    "cv = cross_val_score(svc, X_train, y_train, cv=5)\n",
    "print(cv)\n",
    "print(cv.mean())"
   ]
  },
  {
   "cell_type": "markdown",
   "metadata": {},
   "source": [
    "`Logistic regression` and `SVM` have the best cross validation scores among the classification methods used."
   ]
  },
  {
   "cell_type": "markdown",
   "metadata": {},
   "source": [
    "### Using GridSearchCV to obtain best model parameters"
   ]
  },
  {
   "cell_type": "code",
   "execution_count": 49,
   "metadata": {},
   "outputs": [],
   "source": [
    "# import required library\n",
    "from sklearn.model_selection import GridSearchCV "
   ]
  },
  {
   "cell_type": "code",
   "execution_count": 50,
   "metadata": {},
   "outputs": [],
   "source": [
    "#simple performance reporting function\n",
    "def clf_performance(classifier, model_name):\n",
    "    print(model_name)\n",
    "    print('Best Score: ' + str(classifier.best_score_))\n",
    "    print('Best Parameters: ' + str(classifier.best_params_))"
   ]
  },
  {
   "cell_type": "code",
   "execution_count": 51,
   "metadata": {},
   "outputs": [
    {
     "name": "stdout",
     "output_type": "stream",
     "text": [
      "Fitting 5 folds for each of 40 candidates, totalling 200 fits\n"
     ]
    },
    {
     "name": "stdout",
     "output_type": "stream",
     "text": [
      "Logistic Regression\n",
      "Best Score: 0.7510112359550563\n",
      "Best Parameters: {'C': 4.281332398719396, 'max_iter': 2000, 'penalty': 'l2', 'solver': 'liblinear'}\n"
     ]
    }
   ],
   "source": [
    "lr = LogisticRegression()\n",
    "param_grid = {'max_iter' : [2000],\n",
    "              'penalty' : ['l1', 'l2'],\n",
    "              'C' : np.logspace(-4, 4, 20),\n",
    "              'solver' : ['liblinear']}\n",
    "\n",
    "clf_lr = GridSearchCV(lr, param_grid = param_grid, cv = 5, verbose = True, n_jobs = -1)\n",
    "best_clf_lr = clf_lr.fit(X_train,y_train)\n",
    "clf_performance(best_clf_lr,'Logistic Regression')"
   ]
  },
  {
   "cell_type": "code",
   "execution_count": 52,
   "metadata": {},
   "outputs": [
    {
     "name": "stdout",
     "output_type": "stream",
     "text": [
      "Fitting 5 folds for each of 48 candidates, totalling 240 fits\n"
     ]
    },
    {
     "name": "stdout",
     "output_type": "stream",
     "text": [
      "KNN\n",
      "Best Score: 0.7393258426966292\n",
      "Best Parameters: {'algorithm': 'auto', 'n_neighbors': 9, 'p': 2, 'weights': 'distance'}\n"
     ]
    }
   ],
   "source": [
    "knn = KNeighborsClassifier()\n",
    "param_grid = {'n_neighbors' : [3,5,7,9],\n",
    "              'weights' : ['uniform', 'distance'],\n",
    "              'algorithm' : ['auto', 'ball_tree','kd_tree'],\n",
    "              'p' : [1,2]}\n",
    "clf_knn = GridSearchCV(knn, param_grid = param_grid, cv = 5, verbose = True, n_jobs = -1)\n",
    "best_clf_knn = clf_knn.fit(X_train,y_train)\n",
    "clf_performance(best_clf_knn,'KNN')"
   ]
  },
  {
   "cell_type": "code",
   "execution_count": 117,
   "metadata": {},
   "outputs": [
    {
     "name": "stdout",
     "output_type": "stream",
     "text": [
      "Fitting 5 folds for each of 10 candidates, totalling 50 fits\n"
     ]
    }
   ],
   "source": [
    "svc = SVC()\n",
    "param_grid = {'kernel': ['rbf','linear'], \n",
    "                'C': [.1, 1, 10, 100, 1000]}\n",
    "\n",
    "clf_svc = GridSearchCV(svc, param_grid = param_grid, cv = 5, verbose = True, n_jobs = -1)\n",
    "best_clf_svc = clf_svc.fit(X_train,y_train)\n",
    "clf_performance(best_clf_svc,'SVC')"
   ]
  },
  {
   "cell_type": "markdown",
   "metadata": {},
   "source": [
    "I interrupted the SVC because it was taking too long to run and my laptop was starting to heat up."
   ]
  },
  {
   "cell_type": "code",
   "execution_count": 53,
   "metadata": {},
   "outputs": [
    {
     "name": "stdout",
     "output_type": "stream",
     "text": [
      "Fitting 5 folds for each of 72 candidates, totalling 360 fits\n"
     ]
    },
    {
     "name": "stdout",
     "output_type": "stream",
     "text": [
      "Decision Tree\n",
      "Best Score: 0.7282397003745318\n",
      "Best Parameters: {'criterion': 'entropy', 'max_depth': 15, 'max_features': 10, 'min_samples_leaf': 3, 'min_samples_split': 2}\n"
     ]
    }
   ],
   "source": [
    "dt = DecisionTreeClassifier(random_state=1)\n",
    "param_grid = {\n",
    "    'criterion': ['gini', 'entropy'],\n",
    "    'max_depth': [15, 20, 25],\n",
    "    'max_features': ['auto', 'sqrt', 10],\n",
    "    'min_samples_leaf': [2, 3],\n",
    "    'min_samples_split': [2, 3]\n",
    "}\n",
    "\n",
    "clf_dt = GridSearchCV(dt, param_grid=param_grid, cv=5, verbose=True, n_jobs=-1)\n",
    "best_clf_dt = clf_dt.fit(X_train, y_train)\n",
    "clf_performance(best_clf_dt, 'Decision Tree')"
   ]
  },
  {
   "cell_type": "code",
   "execution_count": 54,
   "metadata": {},
   "outputs": [],
   "source": [
    "# Make predictions using trained models\n",
    "y_pred_lr = clf_lr.best_estimator_.predict(X_test)\n",
    "y_pred_knn = clf_knn.best_estimator_.predict(X_test)\n",
    "y_pred_dt = clf_dt.best_estimator_.predict(X_test)"
   ]
  },
  {
   "cell_type": "markdown",
   "metadata": {},
   "source": [
    "### Model Evaluation"
   ]
  },
  {
   "cell_type": "code",
   "execution_count": 55,
   "metadata": {},
   "outputs": [
    {
     "name": "stdout",
     "output_type": "stream",
     "text": [
      "Results for Logistic Regression:\n",
      "Accuracy: 0.7564640111809923\n",
      "Classification Report:\n",
      "              precision    recall  f1-score   support\n",
      "\n",
      "          no       0.79      0.79      0.79      1646\n",
      "         yes       0.72      0.71      0.71      1216\n",
      "\n",
      "    accuracy                           0.76      2862\n",
      "   macro avg       0.75      0.75      0.75      2862\n",
      "weighted avg       0.76      0.76      0.76      2862\n",
      "\n",
      "Confusion Matrix:\n",
      "[[1306  340]\n",
      " [ 357  859]]\n",
      "-------------------------------------------------------\n",
      "Results for Decision Tree:\n",
      "Accuracy: 0.7407407407407407\n",
      "Classification Report:\n",
      "              precision    recall  f1-score   support\n",
      "\n",
      "          no       0.80      0.74      0.77      1646\n",
      "         yes       0.68      0.74      0.71      1216\n",
      "\n",
      "    accuracy                           0.74      2862\n",
      "   macro avg       0.74      0.74      0.74      2862\n",
      "weighted avg       0.75      0.74      0.74      2862\n",
      "\n",
      "Confusion Matrix:\n",
      "[[1216  430]\n",
      " [ 312  904]]\n",
      "-------------------------------------------------------\n",
      "Results for KNN:\n",
      "Accuracy: 0.7351502445842069\n",
      "Classification Report:\n",
      "              precision    recall  f1-score   support\n",
      "\n",
      "          no       0.78      0.75      0.77      1646\n",
      "         yes       0.68      0.71      0.69      1216\n",
      "\n",
      "    accuracy                           0.74      2862\n",
      "   macro avg       0.73      0.73      0.73      2862\n",
      "weighted avg       0.74      0.74      0.74      2862\n",
      "\n",
      "Confusion Matrix:\n",
      "[[1242  404]\n",
      " [ 354  862]]\n",
      "-------------------------------------------------------\n"
     ]
    }
   ],
   "source": [
    "# Evaluate each model\n",
    "models = [clf_lr, clf_dt, clf_knn]\n",
    "model_names = ['Logistic Regression', 'Decision Tree', 'KNN']\n",
    "predictions = [y_pred_lr, y_pred_dt, y_pred_knn]\n",
    "\n",
    "for model, name, yhat in zip(models, model_names, predictions):\n",
    "    #y_pred = model.predict(model)\n",
    "    print(f'Results for {name}:')\n",
    "    print('Accuracy:', accuracy_score(y_test, yhat))\n",
    "    print('Classification Report:')\n",
    "    print(classification_report(y_test, yhat))\n",
    "    print('Confusion Matrix:')\n",
    "    print(confusion_matrix(y_test,yhat))\n",
    "    print('-' * 55)"
   ]
  },
  {
   "cell_type": "markdown",
   "metadata": {},
   "source": [
    "Generally, the model performs well in predicting whether or not a woman has her first child in adolescence. Accuracy ranges from 0.73 for Decision Tree to 0.76 for the Logistic Regression."
   ]
  },
  {
   "cell_type": "markdown",
   "metadata": {},
   "source": [
    "## Conclusion\n",
    "This analysis has created a classification algorithm that can be used to predict the risk of adolescent birth among young girls in Ghana. The prediction accuracy of 76% (for Logistic regression) is commendable. However, if additional variables such as those related to household characteristics like parents' education and others were available, they could help to make the model's predictions more precise."
   ]
  }
 ],
 "metadata": {
  "kernelspec": {
   "display_name": "base",
   "language": "python",
   "name": "python3"
  },
  "language_info": {
   "codemirror_mode": {
    "name": "ipython",
    "version": 3
   },
   "file_extension": ".py",
   "mimetype": "text/x-python",
   "name": "python",
   "nbconvert_exporter": "python",
   "pygments_lexer": "ipython3",
   "version": "3.8.18"
  }
 },
 "nbformat": 4,
 "nbformat_minor": 2
}
